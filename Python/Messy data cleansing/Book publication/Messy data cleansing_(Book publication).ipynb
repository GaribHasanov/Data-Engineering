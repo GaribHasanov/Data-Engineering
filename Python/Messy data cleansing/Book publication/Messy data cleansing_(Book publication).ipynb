{
 "cells": [
  {
   "cell_type": "code",
   "execution_count": 483,
   "id": "c428e887",
   "metadata": {},
   "outputs": [],
   "source": [
    "import pandas as pd\n",
    "import googletrans\n",
    "from googletrans import Translator\n",
    "\n",
    "# getting messy data\n",
    "df = pd.read_csv('Images-Book.csv',usecols = ['Identifier', 'Edition Statement','Place of Publication','Date of Publication'\n",
    ",'Publisher','Title', 'Author','Contributors','Shelfmarks' ], keep_default_na = False ,nrows = 200)\n",
    "\n",
    "# cleansing 'Place of Publication' column\n",
    "df = df.sort_values(by = ['Place of Publication'],ascending=False) #'\\(|\\)!,\"-', '', regex=True, inplace=True\n",
    "df['Place of Publication'] = df['Place of Publication'].str.lower().replace('[].?+;())&:[]', '', regex=True)#implement regex behavior\n",
    "df['Date of Publication'] = df['Date of Publication'].replace('[].?+;())&:[]', '', regex=True)#implement regex behavior\n",
    "\n",
    "# importing all cities and measure with df.Place of Publication column\n",
    "cities = pd.read_csv('world-cities.csv', usecols = ['name']  )\n",
    "cities['name'] = cities['name'].str.lower()\n",
    "#cities = cities.sort_values(by = ['name'])\n",
    "\n",
    "# left join df.Place of Publication column to cities.name column\n",
    "join_table = df.merge(cities, how = 'left',left_on = 'Place of Publication', right_on = 'name')\n",
    "# finding null(not matched rows) and clean messy data. We define the messy column by finding not matched rows with cities df\n",
    "join_table_not_null = join_table[join_table['name'].notnull()] #matched\n",
    "join_table_null =     join_table[join_table['name'].isnull()]  #notmatched\n",
    "\n",
    "\n",
    "# Translate \n",
    "# Translating not matched rows. Because some of the 'df.Place of Publication 'rows are in different language.\n",
    "translator = Translator()\n",
    "join_table_null['Place of Publication'] = join_table_null['Place of Publication'].apply(lambda x: translator.translate(x, dest='en').text).str.lower()\n",
    "\n",
    "# UnFinished. Need implementation\n",
    "# Joining again the 'Place of Publication' column with cities df\n",
    "join_table_2 = join_table_null.merge(cities, how = 'left', left_on = 'Place of Publication', right_on = 'name' )\n",
    "join_table_2_notnull = join_table_2[join_table_2['name_y'].notnull()] #matched\n",
    "join_table_2_null =    join_table_2[join_table_2['name_y'].isnull() ] #notmatched\n",
    "# Next time will use regex and find unmatched similar rows of \"Place of Publication\" of 'join_table_2_null' object and concat with concat_table object\n",
    "\n",
    "\n",
    "frames = [join_table_not_null[['Identifier','Edition Statement','Place of Publication','Date of Publication','Publisher','Title','Author','Contributors','Shelfmarks']],join_table_2_notnull[['Identifier','Edition Statement','Place of Publication','Date of Publication','Publisher','Title','Author','Contributors','Shelfmarks']]]\n",
    "concat_table = pd.concat(frames).drop_duplicates()\n",
    "concat_table['Place of Publication'] = concat_table['Place of Publication'].str.title()\n",
    "concat_table.to_excel('book_concating.xlsx', sheet_name = 'Cleansed data',index = False)\n",
    "#concat_table"
   ]
  },
  {
   "cell_type": "code",
   "execution_count": null,
   "id": "614e956a",
   "metadata": {},
   "outputs": [],
   "source": []
  },
  {
   "cell_type": "code",
   "execution_count": null,
   "id": "00e5dcb2",
   "metadata": {},
   "outputs": [],
   "source": []
  },
  {
   "cell_type": "code",
   "execution_count": null,
   "id": "df270696",
   "metadata": {},
   "outputs": [],
   "source": []
  },
  {
   "cell_type": "code",
   "execution_count": null,
   "id": "ff49b441",
   "metadata": {},
   "outputs": [],
   "source": []
  }
 ],
 "metadata": {
  "kernelspec": {
   "display_name": "Python 3 (ipykernel)",
   "language": "python",
   "name": "python3"
  },
  "language_info": {
   "codemirror_mode": {
    "name": "ipython",
    "version": 3
   },
   "file_extension": ".py",
   "mimetype": "text/x-python",
   "name": "python",
   "nbconvert_exporter": "python",
   "pygments_lexer": "ipython3",
   "version": "3.10.6"
  }
 },
 "nbformat": 4,
 "nbformat_minor": 5
}
